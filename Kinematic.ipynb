{
 "cells": [
  {
   "cell_type": "code",
   "execution_count": null,
   "metadata": {},
   "outputs": [],
   "source": [
    "output_string = \"\"\"\n",
    "1140\n",
    "forward 0 4.5\n",
    "rotate 0 3.14159\n",
    "forward 2 5\n",
    "forward 3 -5\n",
    "sell 1\n",
    "buy 1\n",
    "OK\n",
    "\"\"\"\n",
    "#前进，机器人ID，速度米/秒|旋转弧度/秒|"
   ]
  },
  {
   "cell_type": "code",
   "execution_count": null,
   "metadata": {},
   "outputs": [],
   "source": [
    "from frame import Map, parse_input\n",
    "input_string = \"\"\"\n",
    "1144 199346\n",
    "9\n",
    "1 43.75 49.25 0 12 1\n",
    "2 45.75 49.25 0 0 1\n",
    "3 47.75 49.25 0 0 1\n",
    "4 43.75 47.25 -1 0 0\n",
    "5 45.75 47.25 168 0 0\n",
    "6 47.75 47.25 -1 0 0\n",
    "7 44.75 45.25 -1 0 0\n",
    "8 46.75 45.25 -1 0 0\n",
    "9 46.25 42.25 -1 0 0\n",
    "5 3 0.9657950401 1 0 0 0 -0.3755806088 47.5760498 47.40252686\n",
    "-1 0 0 0 0 0 0 -0.006108176429 43.75140762 48.23157501\n",
    "-1 0 0 0 0 0 0 0 3.25 2.25\n",
    "-1 0 0 0 0 0 0 0 45.75 1.75\n",
    "OK\n",
    "\"\"\"\n",
    "## 最后的 4 行机器人数据：|所在工作台ID|携带物品类型|时间价值系数|碰撞价值系数|角速度|线速度|朝向|坐标\n",
    "map_obj = parse_input(input_string)\n"
   ]
  },
  {
   "cell_type": "code",
   "execution_count": 76,
   "metadata": {},
   "outputs": [
    {
     "name": "stdout",
     "output_type": "stream",
     "text": [
      "{'A': {0: (24.75, 38.75), 1: (24.75, 36.75), 2: (24.75, 34.25), 3: (24.75, 29.25)}, '1': {0: (1.25, 48.75), 1: (48.75, 48.75), 2: (24.75, 31.75), 3: (24.75, 18.75), 4: (1.25, 1.25), 5: (48.75, 1.25)}, '2': {0: (3.25, 48.75), 1: (22.25, 48.75), 2: (9.25, 34.25), 3: (9.25, 16.25), 4: (3.25, 1.25), 5: (22.25, 1.25)}, '3': {0: (27.75, 48.75), 1: (46.75, 48.75), 2: (40.75, 34.25), 3: (40.75, 16.25), 4: (27.75, 1.25), 5: (46.75, 1.25)}, '4': {0: (5.25, 48.75), 1: (36.75, 34.25), 2: (36.75, 16.25), 3: (5.25, 1.25)}, '5': {0: (44.75, 48.75), 1: (13.25, 34.25), 2: (13.25, 16.25), 3: (44.75, 1.25)}, '6': {0: (24.75, 39.75), 1: (24.75, 10.75)}, '7': {0: (17.25, 25.25), 1: (32.25, 25.25)}, '8': {0: (24.75, 25.25)}}\n",
      "cur_dir= 3.141592653589793 tar_dir= 3.141592653589793 delta_dir= 0.0 distance= 5.0\n",
      "w= 0.0 v= 6.0\n"
     ]
    }
   ],
   "source": [
    "from matplotlib import pyplot as plt\n",
    "import numpy as np\n",
    "from frame import Map, parse_input\n",
    "\n",
    "map_txt_file_path = '/mnt/e/2023huawei/LinuxRelease/LinuxRelease/maps/1.txt'\n",
    "def read_map():\n",
    "    # 打开文件并读取每一行，并对每一行进行映射转换\n",
    "    with open(map_txt_file_path, \"r\") as f:\n",
    "        ori_matrix = np.array([list(line.strip()) for line in f])\n",
    "    search_chars = ['A', '1', '2', '3', '4', '5', '6', '7','8']\n",
    "    char_to_coord = {}\n",
    "    # 查找符合条件的元素的下标，并将下标和对应的值储存在字典中\n",
    "    for char in search_chars:\n",
    "        char_to_coord[char] = {}\n",
    "        indices = np.where(ori_matrix == char)\n",
    "        for i in range(len(indices[0])):\n",
    "            char_to_coord[char][i] = (indices[1][i]*0.5+0.25, 50-(indices[0][i]*0.5+0.25))\n",
    "    return char_to_coord\n",
    "\n",
    "def w_v_fun(delta_dir,distance):\n",
    "    k_w = 1 # 可以调节的参数\n",
    "    w = k_w * delta_dir\n",
    "    if distance >= 6:\n",
    "        v = 6\n",
    "    else:\n",
    "        v = distance\n",
    "    k_v = 1\n",
    "    v = k_v*(1-(np.absolute(w)/np.pi))*v\n",
    "    return w, v\n",
    "\n",
    "def kinema(current_direct,current_coord,target_coord):\n",
    "    distance = np.linalg.norm(target_coord - current_coord)\n",
    "    tar_cur_dir = [target_coord[0]-current_coord[0],target_coord[1]-current_coord[1]]\n",
    "    tar_dir = np.arctan2(tar_cur_dir[1],tar_cur_dir[0]) # 每帧更新\n",
    "    delta_dir = tar_dir - current_direct\n",
    "    if np.absolute(delta_dir) > np.pi : delta_dir += 2*np.pi # w的范围是[-pi,pi]\n",
    "    print('cur_dir=',current_direct,'tar_dir=',tar_dir,'delta_dir=',delta_dir,'distance=',distance)\n",
    "    w, v = w_v_fun(delta_dir = delta_dir, distance = distance)\n",
    "    return w,v\n",
    "    \n",
    "    \n",
    "if __name__ == '__main__':\n",
    "    # 读取地图txt获得各物体的坐标\n",
    "    all_coord = read_map()\n",
    "    print(all_coord)\n",
    "    # 假设传入目前点和一个目标点\n",
    "    cur_point = np.array([10,10])\n",
    "    tar_point = np.array([5,10])\n",
    "    cur_direct = np.pi\n",
    "    w,v = kinema(cur_direct, cur_point, tar_point)\n",
    "    print('w=',w,'v=',v)\n",
    "    # cur_dir = np.pi # 每帧更新\n",
    "    # tar_cur_dir = [points[1][0]-points[0][0],points[1][1]-points[0][1]]\n",
    "    # tar_dir = np.arctan2(tar_cur_dir[1],tar_cur_dir[0]) # 每帧更新\n",
    "    # delta_dir = tar_dir - cur_dir\n",
    "    # if np.absolute(delta_dir) > np.pi : delta_dir += 2*np.pi # w的范围是[-pi,pi]\n",
    "    # print('cur_dir=',cur_dir,'tar_dir=',tar_dir,'delta_dir=',delta_dir)\n",
    "    # w, v = w_v_fun(delta_dir = delta_dir)\n",
    "    "
   ]
  }
 ],
 "metadata": {
  "kernelspec": {
   "display_name": "base",
   "language": "python",
   "name": "python3"
  },
  "language_info": {
   "codemirror_mode": {
    "name": "ipython",
    "version": 3
   },
   "file_extension": ".py",
   "mimetype": "text/x-python",
   "name": "python",
   "nbconvert_exporter": "python",
   "pygments_lexer": "ipython3",
   "version": "3.9.12"
  },
  "orig_nbformat": 4
 },
 "nbformat": 4,
 "nbformat_minor": 2
}
