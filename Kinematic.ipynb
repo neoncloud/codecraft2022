{
 "cells": [
  {
   "cell_type": "code",
   "execution_count": null,
   "metadata": {},
   "outputs": [],
   "source": [
    "output_string = \"\"\"\n",
    "1140\n",
    "forward 0 4.5\n",
    "rotate 0 3.14159\n",
    "forward 2 5\n",
    "forward 3 -5\n",
    "sell 1\n",
    "buy 1\n",
    "OK\n",
    "\"\"\"\n",
    "#前进，机器人ID，速度米/秒|旋转弧度/秒|"
   ]
  },
  {
   "cell_type": "code",
   "execution_count": null,
   "metadata": {},
   "outputs": [],
   "source": [
    "from frame import Map, parse_input\n",
    "input_string = \"\"\"\n",
    "1144 199346\n",
    "9\n",
    "1 43.75 49.25 0 12 1\n",
    "2 45.75 49.25 0 0 1\n",
    "3 47.75 49.25 0 0 1\n",
    "4 43.75 47.25 -1 0 0\n",
    "5 45.75 47.25 168 0 0\n",
    "6 47.75 47.25 -1 0 0\n",
    "7 44.75 45.25 -1 0 0\n",
    "8 46.75 45.25 -1 0 0\n",
    "9 46.25 42.25 -1 0 0\n",
    "5 3 0.9657950401 1 0 0 0 -0.3755806088 47.5760498 47.40252686\n",
    "-1 0 0 0 0 0 0 -0.006108176429 43.75140762 48.23157501\n",
    "-1 0 0 0 0 0 0 0 3.25 2.25\n",
    "-1 0 0 0 0 0 0 0 45.75 1.75\n",
    "OK\n",
    "\"\"\"\n",
    "## 最后的 4 行机器人数据：|所在工作台ID|携带物品类型|时间价值系数|碰撞价值系数|角速度|线速度|朝向|坐标\n",
    "map_obj = parse_input(input_string)\n"
   ]
  },
  {
   "cell_type": "code",
   "execution_count": 70,
   "metadata": {},
   "outputs": [
    {
     "name": "stdout",
     "output_type": "stream",
     "text": [
      "{'A': {0: (24.75, 38.75), 1: (24.75, 36.75), 2: (24.75, 34.25), 3: (24.75, 29.25)}, '1': {0: (1.25, 48.75), 1: (48.75, 48.75), 2: (24.75, 31.75), 3: (24.75, 18.75), 4: (1.25, 1.25), 5: (48.75, 1.25)}, '2': {0: (3.25, 48.75), 1: (22.25, 48.75), 2: (9.25, 34.25), 3: (9.25, 16.25), 4: (3.25, 1.25), 5: (22.25, 1.25)}, '3': {0: (27.75, 48.75), 1: (46.75, 48.75), 2: (40.75, 34.25), 3: (40.75, 16.25), 4: (27.75, 1.25), 5: (46.75, 1.25)}, '4': {0: (5.25, 48.75), 1: (36.75, 34.25), 2: (36.75, 16.25), 3: (5.25, 1.25)}, '5': {0: (44.75, 48.75), 1: (13.25, 34.25), 2: (13.25, 16.25), 3: (44.75, 1.25)}, '6': {0: (24.75, 39.75), 1: (24.75, 10.75)}, '7': {0: (17.25, 25.25), 1: (32.25, 25.25)}, '8': {0: (24.75, 25.25)}}\n",
      "[[10, 10], [20, 15]]\n",
      "cur_dir= 3.141592653589793 tar_dir= 0.4636476090008061 delta_dir= -2.677945044588987\n"
     ]
    }
   ],
   "source": [
    "from matplotlib import pyplot as plt\n",
    "import numpy as np\n",
    "from frame import Map, parse_input\n",
    "\n",
    "map_txt_file_path = '/mnt/e/2023huawei/LinuxRelease/LinuxRelease/maps/1.txt'\n",
    "def read_map():\n",
    "    # 打开文件并读取每一行，并对每一行进行映射转换\n",
    "    with open(map_txt_file_path, \"r\") as f:\n",
    "        ori_matrix = np.array([list(line.strip()) for line in f])\n",
    "    search_chars = ['A', '1', '2', '3', '4', '5', '6', '7','8']\n",
    "    char_to_coord = {}\n",
    "    # 查找符合条件的元素的下标，并将下标和对应的值储存在字典中\n",
    "    for char in search_chars:\n",
    "        char_to_coord[char] = {}\n",
    "        indices = np.where(ori_matrix == char)\n",
    "        for i in range(len(indices[0])):\n",
    "            char_to_coord[char][i] = (indices[1][i]*0.5+0.25, 50-(indices[0][i]*0.5+0.25))\n",
    "    return char_to_coord\n",
    "\n",
    "def w_v_fun(delta_dir):\n",
    "    k_w = 1 # 可以调节的参数\n",
    "    w = k_w * delta_dir\n",
    "    k_v = 1\n",
    "    v = k_v*(1-(np.absolute(w)/np.pi))*6\n",
    "    return w, v\n",
    "    \n",
    "if __name__ == '__main__':\n",
    "    all_coord = read_map()\n",
    "    print(all_coord)\n",
    "    # points = np.array(list(all_coord['1'].values()))\n",
    "    points = [[10, 10], [20,15]]\n",
    "    print(points)\n",
    "    # fit_curve(points[:3])\n",
    "    cur_dir = np.pi # 每帧更新\n",
    "    tar_cur_dir = [points[1][0]-points[0][0],points[1][1]-points[0][1]]\n",
    "    tar_dir = np.arctan2(tar_cur_dir[1],tar_cur_dir[0]) # 每帧更新\n",
    "    delta_dir = tar_dir - cur_dir\n",
    "    if np.absolute(delta_dir) > np.pi : delta_dir += 2*np.pi # w的范围是[-pi,pi]\n",
    "    print('cur_dir=',cur_dir,'tar_dir=',tar_dir,'delta_dir=',delta_dir)\n",
    "    w, v = w_v_fun(delta_dir = delta_dir)\n",
    "    \n",
    "    \n",
    "    \n",
    "    \n",
    "    # u = np.array([u1, u2])\n",
    "    # v = np.array([v1, v2])\n",
    "\n",
    "    # dot_product = np.dot(points[0]-points[1])\n",
    "    # norm_u = np.linalg.norm(points[0]-points[1])\n",
    "    # norm_v = np.linalg.norm(np.array([1,0]))\n",
    "    # angle = np.arccos(dot_product / (norm_u * norm_v))\n",
    "    # print(angle)"
   ]
  },
  {
   "cell_type": "code",
   "execution_count": 52,
   "metadata": {},
   "outputs": [
    {
     "name": "stdout",
     "output_type": "stream",
     "text": [
      "0.7853981633974483\n"
     ]
    }
   ],
   "source": [
    "u = np.array([10, 10])\n",
    "angle = np.arctan2(u[1], u[0])\n",
    "print(angle)"
   ]
  },
  {
   "cell_type": "code",
   "execution_count": 29,
   "metadata": {},
   "outputs": [
    {
     "ename": "ValueError",
     "evalue": "operands could not be broadcast together with shapes (100,) (2,) ",
     "output_type": "error",
     "traceback": [
      "\u001b[0;31m---------------------------------------------------------------------------\u001b[0m",
      "\u001b[0;31mValueError\u001b[0m                                Traceback (most recent call last)",
      "\u001b[1;32m/home/hanson/codecraft2022/Kinematic.ipynb 单元格 4\u001b[0m in \u001b[0;36m<cell line: 13>\u001b[0;34m()\u001b[0m\n\u001b[1;32m     <a href='vscode-notebook-cell://wsl%2Bubuntu/home/hanson/codecraft2022/Kinematic.ipynb#X11sdnNjb2RlLXJlbW90ZQ%3D%3D?line=9'>10</a>\u001b[0m t \u001b[39m=\u001b[39m np\u001b[39m.\u001b[39mlinspace(\u001b[39m0\u001b[39m, \u001b[39m1\u001b[39m, \u001b[39m100\u001b[39m)\n\u001b[1;32m     <a href='vscode-notebook-cell://wsl%2Bubuntu/home/hanson/codecraft2022/Kinematic.ipynb#X11sdnNjb2RlLXJlbW90ZQ%3D%3D?line=11'>12</a>\u001b[0m \u001b[39m# 二次Bezier曲线的公式\u001b[39;00m\n\u001b[0;32m---> <a href='vscode-notebook-cell://wsl%2Bubuntu/home/hanson/codecraft2022/Kinematic.ipynb#X11sdnNjb2RlLXJlbW90ZQ%3D%3D?line=12'>13</a>\u001b[0m curve \u001b[39m=\u001b[39m (\u001b[39m1\u001b[39;49m\u001b[39m-\u001b[39;49mt)\u001b[39m*\u001b[39;49m\u001b[39m*\u001b[39;49m\u001b[39m2\u001b[39;49m\u001b[39m*\u001b[39;49mp1 \u001b[39m+\u001b[39m \u001b[39m2\u001b[39m\u001b[39m*\u001b[39mt\u001b[39m*\u001b[39m(\u001b[39m1\u001b[39m\u001b[39m-\u001b[39mt)\u001b[39m*\u001b[39mp2 \u001b[39m+\u001b[39m t\u001b[39m*\u001b[39m\u001b[39m*\u001b[39m\u001b[39m2\u001b[39m\u001b[39m*\u001b[39mp3\n\u001b[1;32m     <a href='vscode-notebook-cell://wsl%2Bubuntu/home/hanson/codecraft2022/Kinematic.ipynb#X11sdnNjb2RlLXJlbW90ZQ%3D%3D?line=14'>15</a>\u001b[0m \u001b[39m# 绘制曲线和点\u001b[39;00m\n\u001b[1;32m     <a href='vscode-notebook-cell://wsl%2Bubuntu/home/hanson/codecraft2022/Kinematic.ipynb#X11sdnNjb2RlLXJlbW90ZQ%3D%3D?line=15'>16</a>\u001b[0m plt\u001b[39m.\u001b[39mplot(curve[:,\u001b[39m0\u001b[39m], curve[:,\u001b[39m1\u001b[39m], label\u001b[39m=\u001b[39m\u001b[39m'\u001b[39m\u001b[39mCurve\u001b[39m\u001b[39m'\u001b[39m)\n",
      "\u001b[0;31mValueError\u001b[0m: operands could not be broadcast together with shapes (100,) (2,) "
     ]
    }
   ],
   "source": [
    "import numpy as np\n",
    "import matplotlib.pyplot as plt\n",
    "\n",
    "# 三个点的坐标\n",
    "p1 = np.array([1, 2])\n",
    "p2 = np.array([4, 5])\n",
    "p3 = np.array([7, 3])\n",
    "\n",
    "# 生成Bezier曲线的参数t，取值范围为0到1\n",
    "t = np.linspace(0, 1, 100)\n",
    "\n",
    "# 二次Bezier曲线的公式\n",
    "curve = (1-t)**2*p1 + 2*t*(1-t)*p2 + t**2*p3\n",
    "\n",
    "# 绘制曲线和点\n",
    "plt.plot(curve[:,0], curve[:,1], label='Curve')\n",
    "plt.scatter([p1[0], p2[0], p3[0]], [p1[1], p2[1], p3[1]], label='Points')\n",
    "\n",
    "# 添加标签和标题\n",
    "plt.xlabel('x')\n",
    "plt.ylabel('y')\n",
    "plt.title('Bezier Curve')\n",
    "plt.savefig('/home/hanson/codecraft2022/route_test.jpg')\n",
    "# 显示图形\n",
    "plt.legend()\n",
    "plt.show()\n"
   ]
  },
  {
   "cell_type": "code",
   "execution_count": 28,
   "metadata": {},
   "outputs": [
    {
     "data": {
      "image/png": "[encoded data removed]",
      "text/plain": [
       "<Figure size 432x288 with 1 Axes>"
      ]
     },
     "metadata": {
      "needs_background": "light"
     },
     "output_type": "display_data"
    }
   ],
   "source": [
    "import numpy as np\n",
    "import matplotlib.pyplot as plt\n",
    "\n",
    "def quadratic_bezier(P0, C, P1):\n",
    "    def f(t):\n",
    "        return (1 - t) ** 2 * P0 + 2 * (1 - t) * t * C + t ** 2 * P1\n",
    "    return f\n",
    "\n",
    "# 定义三个点\n",
    "P0 = np.array([0, 0], dtype=float)\n",
    "P1 = np.array([1, 2], dtype=float)\n",
    "P2 = np.array([3, 1], dtype=float)\n",
    "\n",
    "# 计算二次Bezier曲线的控制点\n",
    "C = 4 / 9 * P1 + 1 / 9 * (P0 + P2)\n",
    "\n",
    "# 构建二次Bezier曲线\n",
    "f = quadratic_bezier(P0, C, P2)\n",
    "\n",
    "# 计算二次Bezier曲线上的点\n",
    "n = 100\n",
    "t = np.linspace(0, 1, n)\n",
    "B = np.zeros((n, 2))\n",
    "for i in range(n):\n",
    "    B[i] = f(t[i])\n",
    "\n",
    "# 画出二次Bezier曲线和控制点\n",
    "plt.plot(B[:, 0], B[:, 1], 'b')\n",
    "plt.plot(P0[0], P0[1], 'ro')\n",
    "plt.plot(P1[0], P1[1], 'ro')\n",
    "plt.plot(P2[0], P2[1], 'ro')\n",
    "plt.plot(C[0], C[1], 'go')\n",
    "plt.axis('equal')\n",
    "plt.savefig('/home/hanson/codecraft2022/route_test.jpg')\n",
    "plt.show()\n"
   ]
  },
  {
   "cell_type": "code",
   "execution_count": 23,
   "metadata": {},
   "outputs": [
    {
     "data": {
      "image/png": "[encoded data removed]",
      "text/plain": [
       "<Figure size 432x288 with 1 Axes>"
      ]
     },
     "metadata": {
      "needs_background": "light"
     },
     "output_type": "display_data"
    }
   ],
   "source": [
    "import numpy as np\n",
    "import matplotlib.pyplot as plt\n",
    "\n",
    "def quadratic_bezier(p0, p1, p2, n):\n",
    "    t = np.linspace(0, 1, n)\n",
    "    B = np.zeros((n, 2))\n",
    "    for i in range(n):\n",
    "        B[i] = (1-t[i])**2 * p0 + 2*t[i]*(1-t[i]) * p1 + t[i]**2 * p2\n",
    "    return B\n",
    "\n",
    "# 定义控制点\n",
    "p0 = np.array([0, 0])\n",
    "p1 = np.array([1, 3])\n",
    "p2 = np.array([4, 2])\n",
    "\n",
    "# 计算贝塞尔曲线上的点\n",
    "n = 100\n",
    "B = quadratic_bezier(p0, p1, p2, n)\n",
    "\n",
    "# 画出贝塞尔曲线\n",
    "plt.plot(B[:, 0], B[:, 1], 'b')\n",
    "plt.plot(p0[0], p0[1], 'ro')\n",
    "plt.plot(p1[0], p1[1], 'ro')\n",
    "plt.plot(p2[0], p2[1], 'ro')\n",
    "plt.axis('equal')\n",
    "plt.savefig('/home/hanson/codecraft2022/route_test.jpg')\n",
    "plt.show()\n",
    "\n"
   ]
  },
  {
   "cell_type": "code",
   "execution_count": 20,
   "metadata": {},
   "outputs": [
    {
     "ename": "ValueError",
     "evalue": "operands could not be broadcast together with shapes (50,) (2500,2) ",
     "output_type": "error",
     "traceback": [
      "\u001b[0;31m---------------------------------------------------------------------------\u001b[0m",
      "\u001b[0;31mValueError\u001b[0m                                Traceback (most recent call last)",
      "\u001b[1;32m/home/hanson/codecraft2022/Kinematic.ipynb 单元格 4\u001b[0m in \u001b[0;36m<cell line: 18>\u001b[0;34m()\u001b[0m\n\u001b[1;32m     <a href='vscode-notebook-cell://wsl%2Bubuntu/home/hanson/codecraft2022/Kinematic.ipynb#W5sdnNjb2RlLXJlbW90ZQ%3D%3D?line=15'>16</a>\u001b[0m t1 \u001b[39m=\u001b[39m np\u001b[39m.\u001b[39mlinspace(\u001b[39m0\u001b[39m, \u001b[39m1\u001b[39m, \u001b[39m50\u001b[39m)\n\u001b[1;32m     <a href='vscode-notebook-cell://wsl%2Bubuntu/home/hanson/codecraft2022/Kinematic.ipynb#W5sdnNjb2RlLXJlbW90ZQ%3D%3D?line=16'>17</a>\u001b[0m t2 \u001b[39m=\u001b[39m np\u001b[39m.\u001b[39mlinspace(\u001b[39m0\u001b[39m, \u001b[39m1\u001b[39m, \u001b[39m50\u001b[39m)\n\u001b[0;32m---> <a href='vscode-notebook-cell://wsl%2Bubuntu/home/hanson/codecraft2022/Kinematic.ipynb#W5sdnNjb2RlLXJlbW90ZQ%3D%3D?line=17'>18</a>\u001b[0m P1 \u001b[39m=\u001b[39m (\u001b[39m1\u001b[39;49m \u001b[39m-\u001b[39;49m t1) \u001b[39m*\u001b[39;49m\u001b[39m*\u001b[39;49m \u001b[39m2\u001b[39;49m \u001b[39m*\u001b[39;49m np\u001b[39m.\u001b[39;49mtile(p1, (\u001b[39m50\u001b[39;49m, \u001b[39m1\u001b[39;49m)) \u001b[39m+\u001b[39m \u001b[39m2\u001b[39m \u001b[39m*\u001b[39m (\u001b[39m1\u001b[39m \u001b[39m-\u001b[39m t1) \u001b[39m*\u001b[39m t1 \u001b[39m*\u001b[39m np\u001b[39m.\u001b[39mtile(p2, (\u001b[39m50\u001b[39m, \u001b[39m1\u001b[39m))\n\u001b[1;32m     <a href='vscode-notebook-cell://wsl%2Bubuntu/home/hanson/codecraft2022/Kinematic.ipynb#W5sdnNjb2RlLXJlbW90ZQ%3D%3D?line=18'>19</a>\u001b[0m P2 \u001b[39m=\u001b[39m (\u001b[39m1\u001b[39m \u001b[39m-\u001b[39m t2) \u001b[39m*\u001b[39m\u001b[39m*\u001b[39m \u001b[39m2\u001b[39m \u001b[39m*\u001b[39m np\u001b[39m.\u001b[39mtile(p3, (\u001b[39m50\u001b[39m, \u001b[39m1\u001b[39m)) \u001b[39m+\u001b[39m \u001b[39m2\u001b[39m \u001b[39m*\u001b[39m t2 \u001b[39m*\u001b[39m (\u001b[39m1\u001b[39m \u001b[39m-\u001b[39m t2) \u001b[39m*\u001b[39m np\u001b[39m.\u001b[39mtile(p2, (\u001b[39m50\u001b[39m, \u001b[39m1\u001b[39m))\n\u001b[1;32m     <a href='vscode-notebook-cell://wsl%2Bubuntu/home/hanson/codecraft2022/Kinematic.ipynb#W5sdnNjb2RlLXJlbW90ZQ%3D%3D?line=20'>21</a>\u001b[0m \u001b[39m# 将两条曲线拼接起来\u001b[39;00m\n",
      "\u001b[0;31mValueError\u001b[0m: operands could not be broadcast together with shapes (50,) (2500,2) "
     ]
    }
   ],
   "source": [
    "import numpy as np\n",
    "import matplotlib.pyplot as plt\n",
    "\n",
    "import numpy as np\n",
    "import matplotlib.pyplot as plt\n",
    "\n",
    "# 定义三个控制点的坐标\n",
    "p1 = np.array([0, 0])\n",
    "p2 = np.array([1, 2])\n",
    "p3 = np.array([3, 1])\n",
    "p1 = np.tile(p1, (50, 1))\n",
    "p2 = np.tile(p1, (50, 1))\n",
    "p3 = np.tile(p1, (50, 1))\n",
    "\n",
    "# 计算两条样条曲线上的点\n",
    "t1 = np.linspace(0, 1, 50)\n",
    "t2 = np.linspace(0, 1, 50)\n",
    "P1 = (1 - t1) ** 2 * np.tile(p1, (50, 1)) + 2 * (1 - t1) * t1 * np.tile(p2, (50, 1))\n",
    "P2 = (1 - t2) ** 2 * np.tile(p3, (50, 1)) + 2 * t2 * (1 - t2) * np.tile(p2, (50, 1))\n",
    "\n",
    "# 将两条曲线拼接起来\n",
    "P = np.concatenate((P1, P2))\n",
    "\n",
    "# 绘制图像\n",
    "plt.plot(P[:,0], P[:,1], 'b-', linewidth=2)\n",
    "plt.plot([p1[0], p2[0], p3[0]], [p1[1], p2[1], p3[1]], 'ro')\n",
    "\n",
    "plt.savefig('/home/hanson/codecraft2022/route_test.jpg')\n",
    "plt.show()\n",
    "\n"
   ]
  },
  {
   "cell_type": "code",
   "execution_count": 6,
   "metadata": {},
   "outputs": [
    {
     "ename": "ValueError",
     "evalue": "could not broadcast input array from shape (3,2) into shape (4,2)",
     "output_type": "error",
     "traceback": [
      "\u001b[0;31m---------------------------------------------------------------------------\u001b[0m",
      "\u001b[0;31mValueError\u001b[0m                                Traceback (most recent call last)",
      "\u001b[1;32m/home/hanson/codecraft2022/Kinematic.ipynb 单元格 4\u001b[0m in \u001b[0;36m<cell line: 16>\u001b[0;34m()\u001b[0m\n\u001b[1;32m     <a href='vscode-notebook-cell://wsl%2Bubuntu/home/hanson/codecraft2022/Kinematic.ipynb#W4sdnNjb2RlLXJlbW90ZQ%3D%3D?line=14'>15</a>\u001b[0m c \u001b[39m=\u001b[39m np\u001b[39m.\u001b[39mzeros((\u001b[39mlen\u001b[39m(t)\u001b[39m-\u001b[39mk\u001b[39m-\u001b[39m\u001b[39m1\u001b[39m, k\u001b[39m+\u001b[39m\u001b[39m1\u001b[39m, \u001b[39m2\u001b[39m))\n\u001b[1;32m     <a href='vscode-notebook-cell://wsl%2Bubuntu/home/hanson/codecraft2022/Kinematic.ipynb#W4sdnNjb2RlLXJlbW90ZQ%3D%3D?line=15'>16</a>\u001b[0m \u001b[39mfor\u001b[39;00m i \u001b[39min\u001b[39;00m \u001b[39mrange\u001b[39m(\u001b[39mlen\u001b[39m(t)\u001b[39m-\u001b[39mk\u001b[39m-\u001b[39m\u001b[39m1\u001b[39m):\n\u001b[0;32m---> <a href='vscode-notebook-cell://wsl%2Bubuntu/home/hanson/codecraft2022/Kinematic.ipynb#W4sdnNjb2RlLXJlbW90ZQ%3D%3D?line=16'>17</a>\u001b[0m     c[i,:] \u001b[39m=\u001b[39m [p1,p2,p3][i:i\u001b[39m+\u001b[39mk\u001b[39m+\u001b[39m\u001b[39m1\u001b[39m]\n\u001b[1;32m     <a href='vscode-notebook-cell://wsl%2Bubuntu/home/hanson/codecraft2022/Kinematic.ipynb#W4sdnNjb2RlLXJlbW90ZQ%3D%3D?line=18'>19</a>\u001b[0m \u001b[39m# 定义插值函数\u001b[39;00m\n\u001b[1;32m     <a href='vscode-notebook-cell://wsl%2Bubuntu/home/hanson/codecraft2022/Kinematic.ipynb#W4sdnNjb2RlLXJlbW90ZQ%3D%3D?line=19'>20</a>\u001b[0m \u001b[39mdef\u001b[39;00m \u001b[39mcubic_interpolation\u001b[39m(t, c, x):\n",
      "\u001b[0;31mValueError\u001b[0m: could not broadcast input array from shape (3,2) into shape (4,2)"
     ]
    }
   ],
   "source": [
    "import numpy as np\n",
    "import matplotlib.pyplot as plt\n",
    "\n",
    "# 定义三个控制点的坐标\n",
    "p1 = np.array([0, 0])\n",
    "p2 = np.array([1, 2])\n",
    "p3 = np.array([3, 1])\n",
    "\n",
    "# 定义节点序列，曲线阶数和生成样本数\n",
    "t = np.array([0, 0, 0, 1, 2, 3, 3, 3])\n",
    "k = 3\n",
    "n = 100\n",
    "\n",
    "# 将控制点按照曲线阶数扩展为新的控制点数组\n",
    "c = np.zeros((len(t)-k-1, k+1, 2))\n",
    "for i in range(len(t)-k-1):\n",
    "    c[i,:] = [p1,p2,p3][i:i+k+1]\n",
    "\n",
    "# 定义插值函数\n",
    "def cubic_interpolation(t, c, x):\n",
    "    n = len(t) - k - 1\n",
    "    y = np.zeros_like(x)\n",
    "    for i in range(n):\n",
    "        indices = np.arange(i, i+k+1)\n",
    "        w = np.ones_like(indices)\n",
    "        for j in range(1, k+1):\n",
    "            mask = indices[:-j] < i+j\n",
    "            w[:-j] = w[:-j] * (t[indices[:-j]+j] - x) / (t[indices[:-j]+j] - t[indices[:-j]])\n",
    "            w[j:] = w[j:] * (x - t[indices[j:]]) / (t[indices[j:]+1] - t[indices[j:]-j+1])\n",
    "        y += np.sum(w[:, np.newaxis] * c[i:i+k+1], axis=0)\n",
    "    return y\n",
    "\n",
    "# 生成样本点\n",
    "x = np.linspace(t[k], t[n-k], n)\n",
    "y = cubic_interpolation(t, c, x)\n",
    "\n",
    "# 绘制图像\n",
    "plt.plot(y[:,0], y[:,1], 'b-', linewidth=2)\n",
    "plt.plot(c[:, :, 0].flatten(), c[:, :, 1].flatten(), 'ro')\n",
    "plt.show()\n",
    "\n"
   ]
  },
  {
   "cell_type": "code",
   "execution_count": 51,
   "metadata": {},
   "outputs": [
    {
     "name": "stdout",
     "output_type": "stream",
     "text": [
      "[[ 0.          0.        ]\n",
      " [ 0.40816327  0.40816327]\n",
      " [ 0.81632653  0.81632653]\n",
      " [ 1.2244898   1.2244898 ]\n",
      " [ 1.63265306  1.63265306]\n",
      " [ 2.04081633  2.04081633]\n",
      " [ 2.44897959  2.44897959]\n",
      " [ 2.85714286  2.85714286]\n",
      " [ 3.26530612  3.26530612]\n",
      " [ 3.67346939  3.67346939]\n",
      " [ 4.08163265  4.08163265]\n",
      " [ 4.48979592  4.48979592]\n",
      " [ 4.89795918  4.89795918]\n",
      " [ 5.30612245  5.30612245]\n",
      " [ 5.71428571  5.71428571]\n",
      " [ 6.12244898  6.12244898]\n",
      " [ 6.53061224  6.53061224]\n",
      " [ 6.93877551  6.93877551]\n",
      " [ 7.34693878  7.34693878]\n",
      " [ 7.75510204  7.75510204]\n",
      " [ 8.16326531  8.16326531]\n",
      " [ 8.57142857  8.57142857]\n",
      " [ 8.97959184  8.97959184]\n",
      " [ 9.3877551   9.3877551 ]\n",
      " [ 9.79591837  9.79591837]\n",
      " [10.20408163  9.79591837]\n",
      " [10.6122449   9.3877551 ]\n",
      " [11.02040816  8.97959184]\n",
      " [11.42857143  8.57142857]\n",
      " [11.83673469  8.16326531]\n",
      " [12.24489796  7.75510204]\n",
      " [12.65306122  7.34693878]\n",
      " [13.06122449  6.93877551]\n",
      " [13.46938776  6.53061224]\n",
      " [13.87755102  6.12244898]\n",
      " [14.28571429  5.71428571]\n",
      " [14.69387755  5.30612245]\n",
      " [15.10204082  4.89795918]\n",
      " [15.51020408  4.48979592]\n",
      " [15.91836735  4.08163265]\n",
      " [16.32653061  3.67346939]\n",
      " [16.73469388  3.26530612]\n",
      " [17.14285714  2.85714286]\n",
      " [17.55102041  2.44897959]\n",
      " [17.95918367  2.04081633]\n",
      " [18.36734694  1.63265306]\n",
      " [18.7755102   1.2244898 ]\n",
      " [19.18367347  0.81632653]\n",
      " [19.59183673  0.40816327]\n",
      " [20.          0.        ]]\n"
     ]
    }
   ],
   "source": [
    "import numpy as np\n",
    "\n",
    "# 定义机器人的起始坐标、目标坐标和下一个目标坐标\n",
    "start_point = np.array([24.75, 0])\n",
    "goal_point = np.array([10, 10])\n",
    "next_goal_point = np.array([20, 0])\n",
    "\n",
    "# 定义路径上的采样点数量\n",
    "num_points = 50\n",
    "\n",
    "# 构造路径上的采样点\n",
    "x = np.linspace(start_point[0], next_goal_point[0], num_points)\n",
    "y = np.interp(x, [start_point[0], goal_point[0], next_goal_point[0]],\n",
    "              [start_point[1], goal_point[1], next_goal_point[1]])\n",
    "\n",
    "# 打印生成的路径\n",
    "path = np.column_stack((x, y))\n",
    "print(path)\n"
   ]
  }
 ],
 "metadata": {
  "kernelspec": {
   "display_name": "base",
   "language": "python",
   "name": "python3"
  },
  "language_info": {
   "codemirror_mode": {
    "name": "ipython",
    "version": 3
   },
   "file_extension": ".py",
   "mimetype": "text/x-python",
   "name": "python",
   "nbconvert_exporter": "python",
   "pygments_lexer": "ipython3",
   "version": "3.9.12"
  },
  "orig_nbformat": 4
 },
 "nbformat": 4,
 "nbformat_minor": 2
}
