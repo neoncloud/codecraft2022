{
 "cells": [
  {
   "cell_type": "code",
   "execution_count": 1,
   "metadata": {},
   "outputs": [],
   "source": [
    "from frame import Map, parse_init_frame\n",
    "import numpy as np"
   ]
  },
  {
   "cell_type": "code",
   "execution_count": null,
   "metadata": {},
   "outputs": [],
   "source": [
    "a = np.array([[1,2],[3,6],[7,5],[8,3]])\n",
    "b = np.array([[2,5],[9,3],[4,2],[3,2],[7,4],[2,4]])\n",
    "c = a[:, None] - b[ None,:]\n",
    "c = np.linalg.norm(c,2,-1).min(0)\n",
    "print(c)"
   ]
  },
  {
   "cell_type": "code",
   "execution_count": 2,
   "metadata": {},
   "outputs": [],
   "source": [
    "input_string = \"\"\"\n",
    "1144 199346\n",
    "9\n",
    "1 43.75 49.25 0 12 1\n",
    "2 45.75 49.25 0 0 1\n",
    "3 47.75 49.25 0 0 1\n",
    "4 43.75 47.25 -1 0 0\n",
    "5 45.75 47.25 168 0 0\n",
    "6 47.75 47.25 -1 0 0\n",
    "7 44.75 45.25 -1 0 0\n",
    "8 46.75 45.25 -1 0 0\n",
    "9 46.25 42.25 -1 0 0\n",
    "5 3 0.9657950401 1 0 0 0 -0.3755806088 47.5760498 47.40252686\n",
    "-1 0 0 0 0 0 0 -0.006108176429 43.75140762 48.23157501\n",
    "-1 0 0 0 0 0 0 0 3.25 2.25\n",
    "-1 0 0 0 0 0 0 0 45.75 1.75\n",
    "OK\n",
    "\"\"\"\n",
    "map_obj = parse_init_frame(input_string)"
   ]
  },
  {
   "cell_type": "code",
   "execution_count": null,
   "metadata": {},
   "outputs": [],
   "source": [
    "def print_map(map_obj):# 遍历并打印Map对象的所有属性\n",
    "    for w in map_obj.workbenches:\n",
    "        for attr in dir(w):\n",
    "            if not callable(getattr(w, attr)) and not attr.startswith(\"__\"):\n",
    "                print(f\"workbenches对象属性 {attr}: {getattr(w, attr)}\")\n",
    "\n",
    "    # 遍历并打印Agent对象的所有属性\n",
    "    for r in map_obj.robots:\n",
    "        for attr in dir(r):\n",
    "            if not callable(getattr(r, attr)) and not attr.startswith(\"__\"):\n",
    "                print(f\"Agent对象属性 {attr}: {getattr(r, attr)}\")"
   ]
  },
  {
   "cell_type": "code",
   "execution_count": null,
   "metadata": {},
   "outputs": [],
   "source": [
    "map_obj.adj_mat"
   ]
  },
  {
   "cell_type": "code",
   "execution_count": 5,
   "metadata": {},
   "outputs": [],
   "source": [
    "from task import TaskNode, dependency_dict, profit\n",
    "import itertools\n",
    "wb_id_to_type = [w.type_id for w in map_obj.workbenches]\n",
    "eff_adj_mat = map_obj.workbench_adj_mat.copy()\n",
    "for i, dists in enumerate(map_obj.workbench_adj_mat):\n",
    "    i_wb_type = wb_id_to_type[i]\n",
    "    for j,_ in enumerate(dists):\n",
    "        j_wb_type = wb_id_to_type[j]\n",
    "        deps = list(itertools.chain(*dependency_dict[i_wb_type]))\n",
    "        if j_wb_type not in deps:\n",
    "            eff_adj_mat[i,j] = 999\n",
    "        else:\n",
    "            eff_adj_mat[i,j] /= profit[i_wb_type]\n",
    "task_node = TaskNode(map_obj.workbenches[8], wb_id_to_type, eff_adj_mat, map_obj)"
   ]
  },
  {
   "cell_type": "code",
   "execution_count": 6,
   "metadata": {},
   "outputs": [
    {
     "name": "stdout",
     "output_type": "stream",
     "text": [
      "1 5\n",
      "2 5\n"
     ]
    }
   ],
   "source": [
    "sub_task = task_node.get_avail_sub_task()\n",
    "for s in sub_task:\n",
    "    src, tgt = s\n",
    "    print(src.workbench.index, tgt.workbench.index)"
   ]
  },
  {
   "cell_type": "code",
   "execution_count": 8,
   "metadata": {},
   "outputs": [
    {
     "data": {
      "text/plain": [
       "6"
      ]
     },
     "execution_count": 8,
     "metadata": {},
     "output_type": "execute_result"
    }
   ],
   "source": [
    "task_node.children[0].workbench.type_id"
   ]
  },
  {
   "cell_type": "code",
   "execution_count": null,
   "metadata": {},
   "outputs": [],
   "source": [
    "input_string = \"\"\"\n",
    "114451 189646\n",
    "9\n",
    "1 43.75 49.25 0 12 1\n",
    "2 45.75 49.25 0 0 0\n",
    "3 47.75 49.25 0 0 0\n",
    "4 43.75 47.25 -1 0 0\n",
    "5 45.75 47.25 168 0 0\n",
    "6 47.75 47.25 -1 0 1\n",
    "7 44.75 45.25 -1 0 0\n",
    "8 46.75 45.25 0 23 1\n",
    "9 46.25 42.25 -1 0 0\n",
    "-1 0 0.9657950401 1 0 0 0 -0.3755806088 47.5760498 47.40252686\n",
    "8 0 0 0 0 0 0 -0.006108176429 43.75140762 48.23157501\n",
    "-1 0 0 0 0 0 0 0 3.25 2.25\n",
    "-1 0 0 0 0 0 0 0 45.75 1.75\n",
    "OK\n",
    "\"\"\"\n",
    "map_obj.update(input_string)\n",
    "print_map(map_obj)"
   ]
  },
  {
   "cell_type": "code",
   "execution_count": null,
   "metadata": {},
   "outputs": [],
   "source": [
    "from task import Scheduler\n",
    "s = Scheduler(map_obj)"
   ]
  },
  {
   "cell_type": "code",
   "execution_count": null,
   "metadata": {},
   "outputs": [],
   "source": [
    "s.src_to_tgt"
   ]
  },
  {
   "cell_type": "code",
   "execution_count": null,
   "metadata": {},
   "outputs": [],
   "source": [
    "s.get_all_task()"
   ]
  },
  {
   "cell_type": "code",
   "execution_count": null,
   "metadata": {},
   "outputs": [],
   "source": [
    "s.dispatch()"
   ]
  },
  {
   "cell_type": "code",
   "execution_count": null,
   "metadata": {},
   "outputs": [],
   "source": [
    "map_obj.robots[2].task"
   ]
  }
 ],
 "metadata": {
  "kernelspec": {
   "display_name": "pytorch",
   "language": "python",
   "name": "python3"
  },
  "language_info": {
   "codemirror_mode": {
    "name": "ipython",
    "version": 3
   },
   "file_extension": ".py",
   "mimetype": "text/x-python",
   "name": "python",
   "nbconvert_exporter": "python",
   "pygments_lexer": "ipython3",
   "version": "3.9.12"
  },
  "orig_nbformat": 4
 },
 "nbformat": 4,
 "nbformat_minor": 2
}
