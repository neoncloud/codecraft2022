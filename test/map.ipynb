{
 "cells": [
  {
   "cell_type": "code",
   "execution_count": 71,
   "metadata": {},
   "outputs": [
    {
     "name": "stdout",
     "output_type": "stream",
     "text": [
      "[[0 0 0 ... 0 0 0]\n",
      " [0 0 0 ... 0 0 0]\n",
      " [0 0 0 ... 0 0 0]\n",
      " ...\n",
      " [0 0 0 ... 0 0 0]\n",
      " [0 0 0 ... 0 0 0]\n",
      " [0 0 0 ... 0 0 0]]\n"
     ]
    }
   ],
   "source": [
    "import numpy as np\n",
    "\n",
    "# 定义映射函数\n",
    "def map_func(char):\n",
    "    if char == \".\":\n",
    "        return 0\n",
    "    elif char.isdigit():\n",
    "        return int(char)\n",
    "    elif char == \"A\":\n",
    "        return 0\n",
    "    else:\n",
    "        raise ValueError(f\"Invalid character {char}\")\n",
    "\n",
    "# 打开文件并读取每一行，并对每一行进行映射转换\n",
    "with open(\"../map/4.txt\", \"r\") as f:\n",
    "    result = np.array([list(map(map_func, line.strip())) for line in f])\n",
    "\n",
    "print(result)"
   ]
  },
  {
   "cell_type": "code",
   "execution_count": 72,
   "metadata": {},
   "outputs": [
    {
     "name": "stdout",
     "output_type": "stream",
     "text": [
      "[ 1 29 29 29 29 29 38 38 42 42 42 42 42 46 46 47 47 52 52 55 55 55 55 55\n",
      " 55 69 69 69 69 69 69 69 75 76 82 82 82 82 82 82 82 82 89 89 95 95 95 95\n",
      " 95 95] [49  8 24 42 58 84 81 87  8 16 24 42 58 82 86 78 90 42 58  8 24 47 53 76\n",
      " 92  8 16 24 42 50 58 84 42 84 10 14 18 22 42 49 55 84 42 84 12 20 42 50\n",
      " 58 84]\n",
      "[9 1 2 3 1 2 5 4 4 5 5 4 5 4 5 6 6 6 6 6 6 4 5 5 5 6 3 6 5 2 4 1 5 5 4 6 5\n",
      " 6 5 6 4 5 6 6 6 6 1 2 3 6]\n"
     ]
    }
   ],
   "source": [
    "x, y = result.nonzero()\n",
    "print(x,y)\n",
    "print(result[x,y])"
   ]
  },
  {
   "cell_type": "code",
   "execution_count": 73,
   "metadata": {},
   "outputs": [
    {
     "name": "stdout",
     "output_type": "stream",
     "text": [
      "[[  0.          49.64876635  37.53664876 ...  94.005319    94.42986816\n",
      "  100.30453629]\n",
      " [ 49.64876635   0.          16.         ...  78.23042886  82.80096618\n",
      "  100.65783626]\n",
      " [ 37.53664876  16.           0.         ...  70.9365914   74.24284477\n",
      "   89.19641248]\n",
      " ...\n",
      " [ 94.005319    78.23042886  70.9365914  ...   0.           8.\n",
      "   34.        ]\n",
      " [ 94.42986816  82.80096618  74.24284477 ...   8.           0.\n",
      "   26.        ]\n",
      " [100.30453629 100.65783626  89.19641248 ...  34.          26.\n",
      "    0.        ]]\n"
     ]
    }
   ],
   "source": [
    "xy = np.stack((x,y),-1)\n",
    "XY = xy[:, None] - xy[None, :]\n",
    "XY = np.linalg.norm(XY,2,-1)\n",
    "print(XY)"
   ]
  },
  {
   "cell_type": "code",
   "execution_count": 74,
   "metadata": {},
   "outputs": [
    {
     "name": "stdout",
     "output_type": "stream",
     "text": [
      "[9 1 2 3 1 2 5 4 4 5 5 4 5 4 5 6 6 6 6 6 6 4 5 5 5 6 3 6 5 2 4 1 5 5 4 6 5\n",
      " 6 5 6 4 5 6 6 6 6 1 2 3 6]\n",
      "[[9.90000000e+01 9.90000000e+01 9.90000000e+01 ... 9.90000000e+01\n",
      "  9.90000000e+01 1.00304536e+02]\n",
      " [9.90000000e+01 9.90000000e+01 9.90000000e+01 ... 9.90000000e+01\n",
      "  9.90000000e+01 9.90000000e+01]\n",
      " [9.90000000e+01 9.90000000e+01 9.90000000e+01 ... 9.90000000e+01\n",
      "  9.90000000e+01 9.90000000e+01]\n",
      " ...\n",
      " [9.90000000e+01 9.90000000e+01 9.90000000e+01 ... 9.90000000e+01\n",
      "  9.90000000e+01 9.90000000e+01]\n",
      " [9.90000000e+01 9.90000000e+01 9.90000000e+01 ... 9.90000000e+01\n",
      "  9.90000000e+01 9.90000000e+01]\n",
      " [9.90000000e+01 9.90000000e+01 1.07465557e-02 ... 4.09638554e-03\n",
      "  3.13253012e-03 9.90000000e+01]]\n"
     ]
    }
   ],
   "source": [
    "dependency_dict = {\n",
    "    9: [7, 6, 5, 4],\n",
    "    8: [7],\n",
    "    7: [6, 5, 4],\n",
    "    6: [2, 3],\n",
    "    5: [1, 3],\n",
    "    4: [1, 2],\n",
    "    3: [],\n",
    "    2: [],\n",
    "    1: []\n",
    "}\n",
    "profit = {\n",
    "    1:3000,\n",
    "    2:3200,\n",
    "    3:3400,\n",
    "    4:7100,\n",
    "    5:7800,\n",
    "    6:8300,\n",
    "    7:29000,\n",
    "    8:1,\n",
    "    9:1\n",
    "}\n",
    "wb_types = result[x,y]\n",
    "print(wb_types)\n",
    "for i, dists in enumerate(XY):\n",
    "    i_wb_type = wb_types[i]\n",
    "    for j,d in enumerate(dists):\n",
    "        j_wb_type = wb_types[j]\n",
    "        if j_wb_type not in dependency_dict[i_wb_type]:\n",
    "            XY[i,j] = 99\n",
    "        else:\n",
    "            XY[i,j] /= profit[i_wb_type]\n",
    "print(XY) #费效比矩阵"
   ]
  },
  {
   "cell_type": "code",
   "execution_count": 91,
   "metadata": {},
   "outputs": [
    {
     "data": {
      "text/plain": [
       "[7, 6, 5, 4, 3, 2, 1, 5, 8]"
      ]
     },
     "execution_count": 91,
     "metadata": {},
     "output_type": "execute_result"
    }
   ],
   "source": [
    "import itertools\n",
    "list(itertools.chain(*[(7, 6, 5, 4, 3, 2, 1),(5,),(8,)]))"
   ]
  },
  {
   "cell_type": "code",
   "execution_count": 5,
   "metadata": {},
   "outputs": [],
   "source": [
    "def calculate_weights(adjacency_matrix):\n",
    "    \"\"\"\n",
    "    计算每个节点的权重\n",
    "    \"\"\"\n",
    "    return np.sum(adjacency_matrix, axis=1)\n",
    "\n",
    "def assign_nodes_to_subgraphs(weights, node_types, adjacency_matrix):\n",
    "    \"\"\"\n",
    "    将节点分配到四个子图中\n",
    "    \"\"\"\n",
    "    # 初始化四个子图\n",
    "    subgraphs = [[] for _ in range(4)]\n",
    "    subgraph_weights = [0 for _ in range(4)]\n",
    "    subgraph_node_types = [set() for _ in range(4)]\n",
    "    \n",
    "    # 将每个节点分配到最小权重的子图中\n",
    "    for node_idx in np.argsort(weights):\n",
    "        node_type = node_types[node_idx]\n",
    "        # 计算每个子图与当前节点的连接权重和\n",
    "        subgraph_weights_with_node = []\n",
    "        for subgraph_idx in range(4):\n",
    "            subgraph_weight_with_node = subgraph_weights[subgraph_idx] + np.sum(adjacency_matrix[node_idx][subgraphs[subgraph_idx]])\n",
    "            subgraph_weights_with_node.append(subgraph_weight_with_node)\n",
    "        # 选择权重和最小的子图并将当前节点加入该子图中\n",
    "        min_weight_subgraph_idx = np.argmin(subgraph_weights_with_node)\n",
    "        subgraphs[min_weight_subgraph_idx].append(node_idx)\n",
    "        subgraph_weights[min_weight_subgraph_idx] = subgraph_weights_with_node[min_weight_subgraph_idx]\n",
    "        subgraph_node_types[min_weight_subgraph_idx].add(node_type)\n",
    "        \n",
    "    return subgraphs, subgraph_node_types\n",
    "\n",
    "def find_subgraphs(adjacency_matrix, node_types):\n",
    "    \"\"\"\n",
    "    将图分割为四个子图，每个子图包含至少一种类型的节点，并且子图的权重和尽量小\n",
    "    \"\"\"\n",
    "    weights = calculate_weights(adjacency_matrix)\n",
    "    \n",
    "    # 重复直到每个子图都包含至少一种类型的节点\n",
    "    while True:\n",
    "        subgraphs, subgraph_node_types = assign_nodes_to_subgraphs(weights, node_types, adjacency_matrix)\n",
    "        if all(len(node_types_in_subgraph) > 0 for node_types_in_subgraph in subgraph_node_types):\n",
    "            break\n",
    "        \n",
    "    return subgraphs\n"
   ]
  },
  {
   "cell_type": "code",
   "execution_count": 4,
   "metadata": {},
   "outputs": [
    {
     "data": {
      "text/plain": [
       "array([1, 2, 4, 2, 3, 5, 3, 1, 6, 2, 5, 4, 3, 1, 7, 8, 7, 1, 2, 5, 4, 3,\n",
       "       6, 1, 2, 4, 2, 3, 5, 3, 1])"
      ]
     },
     "execution_count": 4,
     "metadata": {},
     "output_type": "execute_result"
    }
   ],
   "source": [
    "node_type = result[x,y]\n",
    "node_type"
   ]
  },
  {
   "cell_type": "code",
   "execution_count": 11,
   "metadata": {},
   "outputs": [
    {
     "name": "stdout",
     "output_type": "stream",
     "text": [
      "Subgraph 0:\n",
      "[15, 14, 10, 9, 27, 28, 29, 30]\n",
      "{1, 2, 3, 5, 7, 8}\n",
      "Subgraph 1:\n",
      "[17, 22, 20, 21, 26, 25, 24, 23]\n",
      "{1, 2, 3, 4, 6}\n",
      "Subgraph 2:\n",
      "[13, 8, 11, 12, 3, 5, 6, 7]\n",
      "{1, 2, 3, 4, 5, 6}\n",
      "Subgraph 3:\n",
      "[16, 19, 18, 4, 2, 1, 0]\n",
      "{1, 2, 3, 4, 5, 7}\n"
     ]
    }
   ],
   "source": [
    "subgraphs = find_subgraphs(XY, node_type)\n",
    "for i, subgraph in enumerate(subgraphs):\n",
    "    print(f\"Subgraph {i}:\")\n",
    "    print(subgraph)\n",
    "    print(set(node_type[subgraph]))"
   ]
  },
  {
   "cell_type": "code",
   "execution_count": 8,
   "metadata": {},
   "outputs": [],
   "source": [
    "import numpy as np\n",
    "from sklearn.cluster import KMeans\n",
    "\n",
    "def spectral_clustering(adj_matrix, node_types):\n",
    "    # Step 1: Construct Laplacian matrix\n",
    "    D = np.diag(np.sum(adj_matrix, axis=1))\n",
    "    L = D - adj_matrix\n",
    "\n",
    "    # Step 2: Compute k smallest eigenvectors of L\n",
    "    k = 4\n",
    "    eigvals, eigvecs = np.linalg.eigh(L)\n",
    "    idx = np.argsort(eigvals)[:k]\n",
    "    X = eigvecs[:, idx]\n",
    "\n",
    "    # Step 3: Normalize rows of X\n",
    "    X_norm = np.linalg.norm(X, axis=1, keepdims=True)\n",
    "    X_norm[X_norm == 0] = 1  # Avoid division by zero\n",
    "    X_normalized = X / X_norm\n",
    "\n",
    "    # Step 4: Apply K-Means clustering\n",
    "    kmeans = KMeans(n_clusters=4).fit(X_normalized)\n",
    "\n",
    "    # Step 5: Assign nodes to clusters\n",
    "    clusters = [[] for _ in range(4)]\n",
    "    for i, label in enumerate(kmeans.labels_):\n",
    "        clusters[label].append(i)\n",
    "\n",
    "    # Step 6: Ensure each cluster contains at least one node type\n",
    "    for i in range(4):\n",
    "        has_type = False\n",
    "        for node in clusters[i]:\n",
    "            if node_types[node] == 1:\n",
    "                has_type = True\n",
    "                break\n",
    "        if not has_type:\n",
    "            # Find nearest cluster with node type and move closest node\n",
    "            nearest_cluster = None\n",
    "            min_distance = np.inf\n",
    "            for j in range(4):\n",
    "                if j != i:\n",
    "                    for node in clusters[j]:\n",
    "                        if node_types[node] == 1:\n",
    "                            distance = np.linalg.norm(X_normalized[node] - kmeans.cluster_centers_[i])\n",
    "                            if distance < min_distance:\n",
    "                                min_distance = distance\n",
    "                                nearest_cluster = j\n",
    "            node_to_move = min(clusters[nearest_cluster], key=lambda x: np.linalg.norm(X_normalized[x] - kmeans.cluster_centers_[i]))\n",
    "            clusters[nearest_cluster].remove(node_to_move)\n",
    "            clusters[i].append(node_to_move)\n",
    "\n",
    "    # Compute weights of each cluster\n",
    "    weights = [np.sum(adj_matrix[cluster][:, cluster]) for cluster in clusters]\n",
    "\n",
    "    return clusters, weights\n"
   ]
  },
  {
   "cell_type": "code",
   "execution_count": 9,
   "metadata": {},
   "outputs": [],
   "source": [
    "clusters, weights = spectral_clustering(XY, node_type)"
   ]
  },
  {
   "cell_type": "code",
   "execution_count": 10,
   "metadata": {},
   "outputs": [
    {
     "name": "stdout",
     "output_type": "stream",
     "text": [
      "Clusters:\n",
      "Cluster 1: [0, 1, 2, 3, 4, 5, 6, 7, 9, 10, 11, 12, 13, 18, 19, 20, 21, 22, 23, 24, 25, 26, 27, 28, 29]\n",
      "Cluster 2: [14, 16, 8]\n",
      "Cluster 3: [15, 30]\n",
      "Cluster 4: [17]\n",
      "Weights: [39922.283628188336, 190.59862173851607, 135.7645019878171, 0.0]\n"
     ]
    }
   ],
   "source": [
    "print(\"Clusters:\")\n",
    "for i, cluster in enumerate(clusters):\n",
    "    print(f\"Cluster {i+1}: {cluster}\")\n",
    "print(\"Weights:\", weights)"
   ]
  },
  {
   "cell_type": "code",
   "execution_count": 12,
   "metadata": {},
   "outputs": [
    {
     "name": "stdout",
     "output_type": "stream",
     "text": [
      "Edges of the tree:\n",
      "(14, 15, 15.0)\n",
      "(15, 13, 13.0)\n",
      "(15, 17, 13.0)\n",
      "(15, 16, 15.0)\n",
      "(13, 8, 16.0)\n",
      "(17, 22, 16.0)\n",
      "(8, 3, 18.681541692269406)\n",
      "(3, 4, 11.0)\n",
      "(22, 26, 19.6468827043885)\n",
      "(26, 27, 11.0)\n",
      "(14, 10, 19.697715603592208)\n",
      "(10, 9, 8.0)\n",
      "(14, 19, 19.697715603592208)\n",
      "(19, 18, 8.0)\n",
      "(16, 11, 20.12461179749811)\n",
      "(11, 12, 8.0)\n",
      "(16, 20, 20.12461179749811)\n",
      "(20, 21, 8.0)\n",
      "(9, 2, 30.083217912982647)\n",
      "(2, 1, 4.0)\n",
      "(1, 0, 4.0)\n",
      "(12, 5, 30.083217912982647)\n",
      "(5, 6, 4.0)\n",
      "(6, 7, 4.0)\n",
      "(18, 25, 31.04834939252005)\n",
      "(25, 24, 4.0)\n",
      "(24, 23, 4.0)\n",
      "(21, 28, 31.04834939252005)\n",
      "(28, 29, 4.0)\n",
      "(29, 30, 4.0)\n"
     ]
    }
   ],
   "source": [
    "# 找到树的顶端节点\n",
    "top_node = np.argmax(node_type == 7)\n",
    "\n",
    "# 初始化已访问节点和未访问节点的列表\n",
    "visited = [top_node]\n",
    "unvisited = list(range(len(node_type)))\n",
    "unvisited.remove(top_node)\n",
    "\n",
    "# 初始化树的边列表\n",
    "edges = []\n",
    "\n",
    "# 遍历所有节点，构建树\n",
    "while unvisited:\n",
    "    min_weight = np.inf\n",
    "    from_node = None\n",
    "    to_node = None\n",
    "    # 找到距离已访问节点最近的未访问节点，并构建边\n",
    "    for i in visited:\n",
    "        for j in unvisited:\n",
    "            if XY[i, j] < min_weight:\n",
    "                min_weight = XY[i, j]\n",
    "                from_node = i\n",
    "                to_node = j\n",
    "    edges.append((from_node, to_node, min_weight))\n",
    "    visited.append(to_node)\n",
    "    unvisited.remove(to_node)\n",
    "\n",
    "# 打印树的边列表\n",
    "print(\"Edges of the tree:\")\n",
    "for edge in edges:\n",
    "    print(edge)"
   ]
  },
  {
   "cell_type": "code",
   "execution_count": 83,
   "metadata": {},
   "outputs": [],
   "source": [
    "dependency_dict = {\n",
    "    9: [(7, 6, 5, 4, 3, 2, 1),],\n",
    "    8: [7],\n",
    "    7: [6, 5, 4],\n",
    "    6: [2, 3],\n",
    "    5: [1, 3],\n",
    "    4: [1, 2],\n",
    "    3: [],\n",
    "    2: [],\n",
    "    1: []\n",
    "}\n",
    "class TaskNode:\n",
    "    def __init__(self, type_id:int, workbench=None) -> None:\n",
    "        self.type_id = type_id     # 这个任务节点的类型id\n",
    "        self.workbench = workbench # 实际对应的工作台id\n",
    "        self.children = []   # 子节点列表\n",
    "        self.make_children()\n",
    "    \n",
    "    def make_children(self):\n",
    "        dep_nodes = dependency_dict[self.type_id]\n",
    "        children = []\n",
    "        for d in dep_nodes:\n",
    "            # 这里不管任务之间是tuple(或关系) 还是int(与关系)，都能同一处理\n",
    "            # 选出所有可用的工作台\n",
    "            node_index = np.argwhere(np.isin(wb_types,np.array(d))).squeeze()\n",
    "            # 查询最高效的\n",
    "            min_wb = node_index[XY[self.workbench, node_index].argmin()]\n",
    "            # 因为不知道d是tuple还是int，因此通过wb_types反查类型id\n",
    "            child = TaskNode(wb_types[min_wb], min_wb)\n",
    "            child.make_children()\n",
    "            children.append(child)\n",
    "        self.children = children\n",
    "        return self.children"
   ]
  },
  {
   "cell_type": "code",
   "execution_count": 84,
   "metadata": {},
   "outputs": [],
   "source": [
    "top_node = TaskNode(9, workbench=0)"
   ]
  },
  {
   "cell_type": "code",
   "execution_count": 85,
   "metadata": {},
   "outputs": [],
   "source": [
    "def print_child(task_node):\n",
    "    print(task_node.type_id, task_node.workbench)\n",
    "    if len(task_node.children) == 0:\n",
    "        return\n",
    "    print(f\"children of {task_node.type_id}:\")\n",
    "    for c in task_node.children:\n",
    "        print_child(c)\n",
    "    print(\"end\")"
   ]
  },
  {
   "cell_type": "code",
   "execution_count": 86,
   "metadata": {},
   "outputs": [
    {
     "name": "stdout",
     "output_type": "stream",
     "text": [
      "9 0\n",
      "children of 9:\n",
      "4 11\n",
      "children of 4:\n",
      "1 4\n",
      "2 2\n",
      "end\n",
      "end\n"
     ]
    }
   ],
   "source": [
    "print_child(top_node)"
   ]
  },
  {
   "cell_type": "code",
   "execution_count": 66,
   "metadata": {},
   "outputs": [
    {
     "data": {
      "text/plain": [
       "array([False, False,  True, False, False,  True, False, False,  True,\n",
       "       False,  True,  True, False, False, False, False, False, False,\n",
       "       False,  True,  True, False,  True, False, False,  True, False,\n",
       "       False,  True, False, False])"
      ]
     },
     "execution_count": 66,
     "metadata": {},
     "output_type": "execute_result"
    }
   ],
   "source": []
  }
 ],
 "metadata": {
  "kernelspec": {
   "display_name": "pytorch",
   "language": "python",
   "name": "python3"
  },
  "language_info": {
   "codemirror_mode": {
    "name": "ipython",
    "version": 3
   },
   "file_extension": ".py",
   "mimetype": "text/x-python",
   "name": "python",
   "nbconvert_exporter": "python",
   "pygments_lexer": "ipython3",
   "version": "3.9.12"
  },
  "orig_nbformat": 4
 },
 "nbformat": 4,
 "nbformat_minor": 2
}
