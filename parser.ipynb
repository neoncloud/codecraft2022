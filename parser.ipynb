{
 "cells": [
  {
   "cell_type": "code",
   "execution_count": 1,
   "metadata": {},
   "outputs": [],
   "source": [
    "from frame import Map, parse_input\n",
    "import numpy as np"
   ]
  },
  {
   "cell_type": "code",
   "execution_count": 3,
   "metadata": {},
   "outputs": [],
   "source": [
    "input_string = \"\"\"\n",
    "1144 199346\n",
    "9\n",
    "1 43.75 49.25 0 12 1\n",
    "2 45.75 49.25 0 0 1\n",
    "3 47.75 49.25 0 0 1\n",
    "4 43.75 47.25 -1 0 0\n",
    "5 45.75 47.25 168 0 0\n",
    "6 47.75 47.25 -1 0 0\n",
    "7 44.75 45.25 -1 0 0\n",
    "8 46.75 45.25 -1 0 0\n",
    "9 46.25 42.25 -1 0 0\n",
    "5 3 0.9657950401 1 0 0 0 -0.3755806088 47.5760498 47.40252686\n",
    "-1 0 0 0 0 0 0 -0.006108176429 43.75140762 48.23157501\n",
    "-1 0 0 0 0 0 0 0 3.25 2.25\n",
    "-1 0 0 0 0 0 0 0 45.75 1.75\n",
    "OK\n",
    "\"\"\"\n",
    "map_obj = parse_input(input_string)"
   ]
  },
  {
   "cell_type": "code",
   "execution_count": null,
   "metadata": {},
   "outputs": [],
   "source": [
    "def print_map(map_obj):# 遍历并打印Map对象的所有属性\n",
    "    for w in map_obj.workbenches:\n",
    "        for attr in dir(w):\n",
    "            if not callable(getattr(w, attr)) and not attr.startswith(\"__\"):\n",
    "                print(f\"workbenches对象属性 {attr}: {getattr(w, attr)}\")\n",
    "\n",
    "    # 遍历并打印Agent对象的所有属性\n",
    "    for r in map_obj.robots:\n",
    "        for attr in dir(r):\n",
    "            if not callable(getattr(r, attr)) and not attr.startswith(\"__\"):\n",
    "                print(f\"Agent对象属性 {attr}: {getattr(r, attr)}\")"
   ]
  },
  {
   "cell_type": "code",
   "execution_count": 5,
   "metadata": {},
   "outputs": [
    {
     "data": {
      "text/plain": [
       "array([[ 0.  ,  4.  , 16.  ,  4.  ,  8.  , 20.  , 17.  , 25.  , 55.25],\n",
       "       [ 4.  ,  0.  ,  4.  ,  8.  ,  4.  ,  8.  , 17.  , 17.  , 49.25],\n",
       "       [16.  ,  4.  ,  0.  , 20.  ,  8.  ,  4.  , 25.  , 17.  , 51.25],\n",
       "       [ 4.  ,  8.  , 20.  ,  0.  ,  4.  , 16.  ,  5.  , 13.  , 31.25],\n",
       "       [ 8.  ,  4.  ,  8.  ,  4.  ,  0.  ,  4.  ,  5.  ,  5.  , 25.25],\n",
       "       [20.  ,  8.  ,  4.  , 16.  ,  4.  ,  0.  , 13.  ,  5.  , 27.25],\n",
       "       [17.  , 17.  , 25.  ,  5.  ,  5.  , 13.  ,  0.  ,  4.  , 11.25],\n",
       "       [25.  , 17.  , 17.  , 13.  ,  5.  ,  5.  ,  4.  ,  0.  ,  9.25],\n",
       "       [55.25, 49.25, 51.25, 31.25, 25.25, 27.25, 11.25,  9.25,  0.  ]])"
      ]
     },
     "execution_count": 5,
     "metadata": {},
     "output_type": "execute_result"
    }
   ],
   "source": [
    "map_obj.adj_mat"
   ]
  },
  {
   "cell_type": "code",
   "execution_count": 6,
   "metadata": {},
   "outputs": [
    {
     "name": "stdout",
     "output_type": "stream",
     "text": [
      "workbenches对象属性 coord: [43.75 49.25]\n",
      "workbenches对象属性 material_state: [2, 3]\n",
      "workbenches对象属性 product_state: True\n",
      "workbenches对象属性 remaining_time: 0\n",
      "workbenches对象属性 type_id: 1\n",
      "workbenches对象属性 coord: [45.75 49.25]\n",
      "workbenches对象属性 material_state: []\n",
      "workbenches对象属性 product_state: False\n",
      "workbenches对象属性 remaining_time: 0\n",
      "workbenches对象属性 type_id: 2\n",
      "workbenches对象属性 coord: [47.75 49.25]\n",
      "workbenches对象属性 material_state: []\n",
      "workbenches对象属性 product_state: False\n",
      "workbenches对象属性 remaining_time: 0\n",
      "workbenches对象属性 type_id: 3\n",
      "workbenches对象属性 coord: [43.75 47.25]\n",
      "workbenches对象属性 material_state: []\n",
      "workbenches对象属性 product_state: False\n",
      "workbenches对象属性 remaining_time: -1\n",
      "workbenches对象属性 type_id: 4\n",
      "workbenches对象属性 coord: [45.75 47.25]\n",
      "workbenches对象属性 material_state: []\n",
      "workbenches对象属性 product_state: False\n",
      "workbenches对象属性 remaining_time: 168\n",
      "workbenches对象属性 type_id: 5\n",
      "workbenches对象属性 coord: [47.75 47.25]\n",
      "workbenches对象属性 material_state: []\n",
      "workbenches对象属性 product_state: True\n",
      "workbenches对象属性 remaining_time: -1\n",
      "workbenches对象属性 type_id: 6\n",
      "workbenches对象属性 coord: [44.75 45.25]\n",
      "workbenches对象属性 material_state: []\n",
      "workbenches对象属性 product_state: False\n",
      "workbenches对象属性 remaining_time: -1\n",
      "workbenches对象属性 type_id: 7\n",
      "workbenches对象属性 coord: [46.75 45.25]\n",
      "workbenches对象属性 material_state: [0, 1, 2, 4]\n",
      "workbenches对象属性 product_state: True\n",
      "workbenches对象属性 remaining_time: 0\n",
      "workbenches对象属性 type_id: 8\n",
      "workbenches对象属性 coord: [46.25 42.25]\n",
      "workbenches对象属性 material_state: []\n",
      "workbenches对象属性 product_state: False\n",
      "workbenches对象属性 remaining_time: -1\n",
      "workbenches对象属性 type_id: 9\n",
      "Agent对象属性 angular_velocity: 0.0\n",
      "Agent对象属性 carrying_item: 0\n",
      "Agent对象属性 collision_value_coeff: 1.0\n",
      "Agent对象属性 coord: [47.5760498  47.40252686]\n",
      "Agent对象属性 heading: -0.3755806088\n",
      "Agent对象属性 linear_velocity: [0. 0.]\n",
      "Agent对象属性 time_value_coeff: 0.9657950401\n",
      "Agent对象属性 workbench_id: -1\n",
      "Agent对象属性 angular_velocity: 0.0\n",
      "Agent对象属性 carrying_item: 0\n",
      "Agent对象属性 collision_value_coeff: 0.0\n",
      "Agent对象属性 coord: [43.75140762 48.23157501]\n",
      "Agent对象属性 heading: -0.006108176429\n",
      "Agent对象属性 linear_velocity: [0. 0.]\n",
      "Agent对象属性 time_value_coeff: 0.0\n",
      "Agent对象属性 workbench_id: 8\n",
      "Agent对象属性 angular_velocity: 0.0\n",
      "Agent对象属性 carrying_item: 0\n",
      "Agent对象属性 collision_value_coeff: 0.0\n",
      "Agent对象属性 coord: [3.25 2.25]\n",
      "Agent对象属性 heading: 0.0\n",
      "Agent对象属性 linear_velocity: [0. 0.]\n",
      "Agent对象属性 time_value_coeff: 0.0\n",
      "Agent对象属性 workbench_id: -1\n",
      "Agent对象属性 angular_velocity: 0.0\n",
      "Agent对象属性 carrying_item: 0\n",
      "Agent对象属性 collision_value_coeff: 0.0\n",
      "Agent对象属性 coord: [45.75  1.75]\n",
      "Agent对象属性 heading: 0.0\n",
      "Agent对象属性 linear_velocity: [0. 0.]\n",
      "Agent对象属性 time_value_coeff: 0.0\n",
      "Agent对象属性 workbench_id: -1\n"
     ]
    }
   ],
   "source": [
    "input_string = \"\"\"\n",
    "114451 189646\n",
    "9\n",
    "1 43.75 49.25 0 12 1\n",
    "2 45.75 49.25 0 0 0\n",
    "3 47.75 49.25 0 0 0\n",
    "4 43.75 47.25 -1 0 0\n",
    "5 45.75 47.25 168 0 0\n",
    "6 47.75 47.25 -1 0 1\n",
    "7 44.75 45.25 -1 0 0\n",
    "8 46.75 45.25 0 23 1\n",
    "9 46.25 42.25 -1 0 0\n",
    "-1 0 0.9657950401 1 0 0 0 -0.3755806088 47.5760498 47.40252686\n",
    "8 0 0 0 0 0 0 -0.006108176429 43.75140762 48.23157501\n",
    "-1 0 0 0 0 0 0 0 3.25 2.25\n",
    "-1 0 0 0 0 0 0 0 45.75 1.75\n",
    "OK\n",
    "\"\"\"\n",
    "map_obj.update(input_string)\n",
    "print_map(map_obj)"
   ]
  },
  {
   "cell_type": "code",
   "execution_count": 7,
   "metadata": {},
   "outputs": [],
   "source": [
    "from task import Scheduler\n",
    "s = Scheduler(map_obj)"
   ]
  },
  {
   "cell_type": "code",
   "execution_count": 8,
   "metadata": {},
   "outputs": [
    {
     "data": {
      "text/plain": [
       "{0: [3, 4],\n",
       " 1: [3, 5],\n",
       " 2: [4, 5],\n",
       " 3: [6, 8],\n",
       " 4: [6, 8],\n",
       " 5: [6, 8],\n",
       " 6: [7, 8],\n",
       " 7: [],\n",
       " 8: []}"
      ]
     },
     "execution_count": 8,
     "metadata": {},
     "output_type": "execute_result"
    }
   ],
   "source": [
    "s.src_to_tgt"
   ]
  },
  {
   "cell_type": "code",
   "execution_count": 9,
   "metadata": {},
   "outputs": [
    {
     "name": "stdout",
     "output_type": "stream",
     "text": [
      "[(0, 3), (5, 6)]\n"
     ]
    }
   ],
   "source": [
    "s.update()\n",
    "print(list(s.tasks_queue.queue))"
   ]
  },
  {
   "cell_type": "code",
   "execution_count": 20,
   "metadata": {},
   "outputs": [
    {
     "name": "stdout",
     "output_type": "stream",
     "text": [
      "[(1, 2, 3)]\n"
     ]
    }
   ],
   "source": [
    "lst = [(1, 2), (2, 3), (5, 6),(3, 4), (6, 7)]\n",
    "\n",
    "def combine_tuples(t1, t2):\n",
    "    if t1[1] == t2[0]:\n",
    "        return (t1[0], t2[0], t2[1])\n",
    "    else:\n",
    "        return None\n",
    "\n",
    "new_lst = list(filter(None, map(combine_tuples, lst[:-1], lst[1:])))\n",
    "print(new_lst)"
   ]
  }
 ],
 "metadata": {
  "kernelspec": {
   "display_name": "pytorch",
   "language": "python",
   "name": "python3"
  },
  "language_info": {
   "codemirror_mode": {
    "name": "ipython",
    "version": 3
   },
   "file_extension": ".py",
   "mimetype": "text/x-python",
   "name": "python",
   "nbconvert_exporter": "python",
   "pygments_lexer": "ipython3",
   "version": "3.9.12"
  },
  "orig_nbformat": 4
 },
 "nbformat": 4,
 "nbformat_minor": 2
}
